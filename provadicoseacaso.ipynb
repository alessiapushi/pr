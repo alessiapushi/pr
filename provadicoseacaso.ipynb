{
 "cells": [
  {
   "cell_type": "code",
   "execution_count": null,
   "id": "54e14105-d4a4-4ede-a9a3-80a2e8ae427d",
   "metadata": {},
   "outputs": [],
   "source": [
    "from pulp import LpProblem, LpMaximize, LpVariable\n",
    "\n",
    "prob = LpProblem(\"work-life balance\", LpMaximize)\n",
    "\n",
    "x1 = LpVariable(\"hours_work\", lowBound=0, upBound=12)\n",
    "x2 = LpVariable(\"hours_play\", lowBound=0)\n",
    "\n",
    "# The objective function is added to 'prob' first\n",
    "prob += x2\n",
    "\n",
    "# The constraints are entered\n",
    "prob += 10*x1 - 5*x2 -10 >=0, \"Balance cost of life\"\n",
    "prob += x1 + x2 <= 16, \"There is only so much time\"\n",
    "\n",
    "prob.solve()\n",
    "\n",
    "for v in prob.variables():\n",
    "    print(v.name, \"=\", v.varValue)\n",
    "    "
   ]
  },
  {
   "cell_type": "code",
   "execution_count": null,
   "id": "c54c3d2c-d43e-4bea-8841-89f2e0025481",
   "metadata": {},
   "outputs": [],
   "source": [
    "from pulp import LpProblem, LpMaximize, LpVariable\n",
    "\n",
    "prob = LpProblem(\"work-life balance\", LpMaximize)\n",
    "\n",
    "x1 = LpVariable(\"hours_work\", lowBound=0, upBound=12)\n",
    "x2 = LpVariable(\"hours_play\", lowBound=0)\n",
    "\n",
    "# The objective function is added to 'prob' first\n",
    "prob += x2\n",
    "\n",
    "# The constraints are entered\n",
    "prob += 10*x1 - 5*x2 -10 >=0, \"Balance cost of life\"\n",
    "prob += x1 + x2 <= 16, \"There is only so much time\"\n",
    "\n",
    "prob.solve()\n",
    "\n",
    "for v in prob.variables():\n",
    "    print(v.name, \"=\", v.varValue)"
   ]
  },
  {
   "cell_type": "code",
   "execution_count": null,
   "id": "e75f18d4-6b5f-4279-9ef2-0daf631fad6a",
   "metadata": {},
   "outputs": [],
   "source": [
    "from pulp import LpProblem, LpMaximize, LpVariable\n",
    "\n",
    "prob = LpProblem(\"work-life balance\", LpMaximize)\n",
    "\n",
    "x1 = LpVariable(\"hours_work\", lowBound=0, upBound=12)\n",
    "x2 = LpVariable(\"hours_play\", lowBound=0)\n",
    "\n",
    "# The objective function is added to 'prob' first\n",
    "prob += x2\n",
    "\n",
    "# The constraints are entered\n",
    "prob += 10*x1 - 5*x2 -10 >=0, \"Balance cost of life\"\n",
    "prob += x1 + x2 <= 16, \"There is only so much time\"\n",
    "\n",
    "prob.solve()\n",
    "\n",
    "for v in prob.variables():\n",
    "    print(v.name, \"=\", v.varValue)"
   ]
  },
  {
   "cell_type": "code",
   "execution_count": null,
   "id": "12761b12-d7fa-4f23-800a-c9d86ed38ebf",
   "metadata": {},
   "outputs": [],
   "source": []
  },
  {
   "cell_type": "code",
   "execution_count": null,
   "id": "ee0b4584-b6ad-480b-9c79-4f75d48ad3a7",
   "metadata": {},
   "outputs": [],
   "source": [
    "message = \"Hello, world!\"\n",
    "print(message)\n"
   ]
  },
  {
   "cell_type": "code",
   "execution_count": null,
   "id": "23e7a92e-02f8-4ea2-9df9-056a0de7f0b9",
   "metadata": {},
   "outputs": [],
   "source": []
  },
  {
   "cell_type": "code",
   "execution_count": null,
   "id": "cd4b31c7-3b11-4fc0-b84e-95737861d9f1",
   "metadata": {},
   "outputs": [],
   "source": []
  },
  {
   "cell_type": "code",
   "execution_count": null,
   "id": "8ee2e1af-4134-4483-8a15-2ab6df897566",
   "metadata": {},
   "outputs": [],
   "source": []
  },
  {
   "cell_type": "code",
   "execution_count": null,
   "id": "435f0e0e-4c7e-47b4-937c-2bbd7aa7e13d",
   "metadata": {},
   "outputs": [],
   "source": [
    "print(\"Ciao, mondo!\")\n"
   ]
  },
  {
   "cell_type": "code",
   "execution_count": null,
   "id": "fbab06e6-f854-4f16-a17e-3399009b44e0",
   "metadata": {},
   "outputs": [],
   "source": [
    "print(\"Ciao, mondo!\")\n"
   ]
  },
  {
   "cell_type": "code",
   "execution_count": 2,
   "id": "f08f7ff1-78a7-426c-8859-814a045d6cc3",
   "metadata": {},
   "outputs": [
    {
     "ename": "SyntaxError",
     "evalue": "invalid syntax (3214540565.py, line 1)",
     "output_type": "error",
     "traceback": [
      "\u001b[0;36m  Cell \u001b[0;32mIn[2], line 1\u001b[0;36m\u001b[0m\n\u001b[0;31m    git init\u001b[0m\n\u001b[0m        ^\u001b[0m\n\u001b[0;31mSyntaxError\u001b[0m\u001b[0;31m:\u001b[0m invalid syntax\n"
     ]
    }
   ],
   "source": [
    "git init "
   ]
  },
  {
   "cell_type": "code",
   "execution_count": null,
   "id": "7a85263d-299e-4ddd-b091-e8cfcb6cfd2e",
   "metadata": {},
   "outputs": [],
   "source": []
  },
  {
   "cell_type": "code",
   "execution_count": null,
   "id": "f8e8ac88-09ec-4a92-a5fb-bee40994a824",
   "metadata": {},
   "outputs": [],
   "source": []
  }
 ],
 "metadata": {
  "kernelspec": {
   "display_name": "Python 3 (ipykernel)",
   "language": "python",
   "name": "python3"
  },
  "language_info": {
   "codemirror_mode": {
    "name": "ipython",
    "version": 3
   },
   "file_extension": ".py",
   "mimetype": "text/x-python",
   "name": "python",
   "nbconvert_exporter": "python",
   "pygments_lexer": "ipython3",
   "version": "3.11.7"
  }
 },
 "nbformat": 4,
 "nbformat_minor": 5
}
